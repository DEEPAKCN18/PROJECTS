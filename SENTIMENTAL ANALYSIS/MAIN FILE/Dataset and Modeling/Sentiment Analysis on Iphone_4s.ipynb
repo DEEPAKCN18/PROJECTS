{
 "cells": [
  {
   "attachments": {},
   "cell_type": "markdown",
   "id": "a5037b82",
   "metadata": {},
   "source": [
    "## PROJECT 123\n",
    "\n",
    "### PROJECT NAME: Sentiment Analysis On Iphone_4s\n",
    "\n",
    "### GROUP NUMBER: 03\n",
    "\n",
    "### TEAM MEMBERS: \n",
    "\n",
    "* Deepak Baliram Talekar\n",
    "* Deepak C N\n",
    "* Harsh Suvarna\n",
    "* Krishna Prasad\n",
    "* Sourav Shivkumar Shukla\n",
    "* Sowmiya S\n",
    "* Vrushabh Dipak Patil"
   ]
  },
  {
   "cell_type": "markdown",
   "id": "e89b1236",
   "metadata": {},
   "source": [
    "### Import the Required Packages"
   ]
  },
  {
   "cell_type": "code",
   "execution_count": 1,
   "id": "b7b87406",
   "metadata": {},
   "outputs": [],
   "source": [
    "import numpy as np\n",
    "import pandas as pd\n",
    "\n",
    "# For visualizations\n",
    "import matplotlib.pyplot as plt\n",
    "\n",
    "# For regular expressions\n",
    "import re\n",
    "\n",
    "# For handling string\n",
    "import string\n",
    "\n",
    "# For performing mathematical operations\n",
    "import math\n",
    "\n",
    "#for natural language processing\n",
    "import nltk\n",
    "from textblob import TextBlob"
   ]
  },
  {
   "cell_type": "code",
   "execution_count": 2,
   "id": "538d1e66",
   "metadata": {},
   "outputs": [
    {
     "name": "stdout",
     "output_type": "stream",
     "text": [
      "Shape of data=> (36440, 2)\n"
     ]
    }
   ],
   "source": [
    "# Importing dataset\n",
    "df=pd.read_excel('C:\\\\Users\\\\Admin\\\\Desktop\\\\Apple iphone 4s review\\\\Iphone_4s_Reviews.xlsx') \n",
    "print(\"Shape of data=>\",df.shape)"
   ]
  },
  {
   "cell_type": "code",
   "execution_count": 3,
   "id": "83534b8b",
   "metadata": {},
   "outputs": [
    {
     "data": {
      "text/html": [
       "<div>\n",
       "<style scoped>\n",
       "    .dataframe tbody tr th:only-of-type {\n",
       "        vertical-align: middle;\n",
       "    }\n",
       "\n",
       "    .dataframe tbody tr th {\n",
       "        vertical-align: top;\n",
       "    }\n",
       "\n",
       "    .dataframe thead th {\n",
       "        text-align: right;\n",
       "    }\n",
       "</style>\n",
       "<table border=\"1\" class=\"dataframe\">\n",
       "  <thead>\n",
       "    <tr style=\"text-align: right;\">\n",
       "      <th></th>\n",
       "      <th>Ratings</th>\n",
       "      <th>Reviews</th>\n",
       "    </tr>\n",
       "  </thead>\n",
       "  <tbody>\n",
       "    <tr>\n",
       "      <th>0</th>\n",
       "      <td>5</td>\n",
       "      <td>Big billion day makes this phone even more val...</td>\n",
       "    </tr>\n",
       "    <tr>\n",
       "      <th>1</th>\n",
       "      <td>5</td>\n",
       "      <td>Every thing is fine n more then expected...</td>\n",
       "    </tr>\n",
       "    <tr>\n",
       "      <th>2</th>\n",
       "      <td>2</td>\n",
       "      <td>Has many drawbacks. Apps developed for iPhone ...</td>\n",
       "    </tr>\n",
       "    <tr>\n",
       "      <th>3</th>\n",
       "      <td>5</td>\n",
       "      <td>The phone was in superb condition... im lovin ...</td>\n",
       "    </tr>\n",
       "    <tr>\n",
       "      <th>4</th>\n",
       "      <td>5</td>\n",
       "      <td>Great Product.</td>\n",
       "    </tr>\n",
       "    <tr>\n",
       "      <th>...</th>\n",
       "      <td>...</td>\n",
       "      <td>...</td>\n",
       "    </tr>\n",
       "    <tr>\n",
       "      <th>36435</th>\n",
       "      <td>5</td>\n",
       "      <td>This product is just amazingðŸ˜™</td>\n",
       "    </tr>\n",
       "    <tr>\n",
       "      <th>36436</th>\n",
       "      <td>5</td>\n",
       "      <td>Very tactile\\n \\n \\n\\n\\n\\n</td>\n",
       "    </tr>\n",
       "    <tr>\n",
       "      <th>36437</th>\n",
       "      <td>5</td>\n",
       "      <td>Very good according to price and features!! On...</td>\n",
       "    </tr>\n",
       "    <tr>\n",
       "      <th>36438</th>\n",
       "      <td>5</td>\n",
       "      <td>Original!! Rest no need to explain.. Apple Nam...</td>\n",
       "    </tr>\n",
       "    <tr>\n",
       "      <th>36439</th>\n",
       "      <td>5</td>\n",
       "      <td>At times I lose the screen light and can't see...</td>\n",
       "    </tr>\n",
       "  </tbody>\n",
       "</table>\n",
       "<p>36440 rows × 2 columns</p>\n",
       "</div>"
      ],
      "text/plain": [
       "       Ratings                                            Reviews\n",
       "0            5  Big billion day makes this phone even more val...\n",
       "1            5        Every thing is fine n more then expected...\n",
       "2            2  Has many drawbacks. Apps developed for iPhone ...\n",
       "3            5  The phone was in superb condition... im lovin ...\n",
       "4            5                                     Great Product.\n",
       "...        ...                                                ...\n",
       "36435        5                   This product is just amazingðŸ˜™\n",
       "36436        5                         Very tactile\\n \\n \\n\\n\\n\\n\n",
       "36437        5  Very good according to price and features!! On...\n",
       "36438        5  Original!! Rest no need to explain.. Apple Nam...\n",
       "36439        5  At times I lose the screen light and can't see...\n",
       "\n",
       "[36440 rows x 2 columns]"
      ]
     },
     "execution_count": 3,
     "metadata": {},
     "output_type": "execute_result"
    }
   ],
   "source": [
    "df"
   ]
  },
  {
   "cell_type": "markdown",
   "id": "a6412c06",
   "metadata": {},
   "source": [
    "### Removing the Null and missing values"
   ]
  },
  {
   "cell_type": "code",
   "execution_count": 4,
   "id": "ee1c161f",
   "metadata": {},
   "outputs": [
    {
     "data": {
      "text/plain": [
       "Ratings      0\n",
       "Reviews    755\n",
       "dtype: int64"
      ]
     },
     "execution_count": 4,
     "metadata": {},
     "output_type": "execute_result"
    }
   ],
   "source": [
    "df.isnull().sum()"
   ]
  },
  {
   "cell_type": "code",
   "execution_count": 5,
   "id": "cf6fc488",
   "metadata": {},
   "outputs": [],
   "source": [
    "df.dropna(inplace=True)"
   ]
  },
  {
   "cell_type": "code",
   "execution_count": 6,
   "id": "0564640e",
   "metadata": {},
   "outputs": [
    {
     "data": {
      "text/plain": [
       "Ratings    0\n",
       "Reviews    0\n",
       "dtype: int64"
      ]
     },
     "execution_count": 6,
     "metadata": {},
     "output_type": "execute_result"
    }
   ],
   "source": [
    "df.isnull().sum()"
   ]
  },
  {
   "cell_type": "code",
   "execution_count": 7,
   "id": "dd5ee906",
   "metadata": {},
   "outputs": [
    {
     "data": {
      "text/html": [
       "<div>\n",
       "<style scoped>\n",
       "    .dataframe tbody tr th:only-of-type {\n",
       "        vertical-align: middle;\n",
       "    }\n",
       "\n",
       "    .dataframe tbody tr th {\n",
       "        vertical-align: top;\n",
       "    }\n",
       "\n",
       "    .dataframe thead th {\n",
       "        text-align: right;\n",
       "    }\n",
       "</style>\n",
       "<table border=\"1\" class=\"dataframe\">\n",
       "  <thead>\n",
       "    <tr style=\"text-align: right;\">\n",
       "      <th></th>\n",
       "      <th>Ratings</th>\n",
       "      <th>Reviews</th>\n",
       "    </tr>\n",
       "  </thead>\n",
       "  <tbody>\n",
       "    <tr>\n",
       "      <th>0</th>\n",
       "      <td>5</td>\n",
       "      <td>Big billion day makes this phone even more val...</td>\n",
       "    </tr>\n",
       "    <tr>\n",
       "      <th>1</th>\n",
       "      <td>5</td>\n",
       "      <td>Every thing is fine n more then expected...</td>\n",
       "    </tr>\n",
       "    <tr>\n",
       "      <th>2</th>\n",
       "      <td>2</td>\n",
       "      <td>Has many drawbacks. Apps developed for iPhone ...</td>\n",
       "    </tr>\n",
       "    <tr>\n",
       "      <th>3</th>\n",
       "      <td>5</td>\n",
       "      <td>The phone was in superb condition... im lovin ...</td>\n",
       "    </tr>\n",
       "    <tr>\n",
       "      <th>4</th>\n",
       "      <td>5</td>\n",
       "      <td>Great Product.</td>\n",
       "    </tr>\n",
       "    <tr>\n",
       "      <th>...</th>\n",
       "      <td>...</td>\n",
       "      <td>...</td>\n",
       "    </tr>\n",
       "    <tr>\n",
       "      <th>36435</th>\n",
       "      <td>5</td>\n",
       "      <td>This product is just amazingðŸ˜™</td>\n",
       "    </tr>\n",
       "    <tr>\n",
       "      <th>36436</th>\n",
       "      <td>5</td>\n",
       "      <td>Very tactile\\n \\n \\n\\n\\n\\n</td>\n",
       "    </tr>\n",
       "    <tr>\n",
       "      <th>36437</th>\n",
       "      <td>5</td>\n",
       "      <td>Very good according to price and features!! On...</td>\n",
       "    </tr>\n",
       "    <tr>\n",
       "      <th>36438</th>\n",
       "      <td>5</td>\n",
       "      <td>Original!! Rest no need to explain.. Apple Nam...</td>\n",
       "    </tr>\n",
       "    <tr>\n",
       "      <th>36439</th>\n",
       "      <td>5</td>\n",
       "      <td>At times I lose the screen light and can't see...</td>\n",
       "    </tr>\n",
       "  </tbody>\n",
       "</table>\n",
       "<p>35685 rows × 2 columns</p>\n",
       "</div>"
      ],
      "text/plain": [
       "       Ratings                                            Reviews\n",
       "0            5  Big billion day makes this phone even more val...\n",
       "1            5        Every thing is fine n more then expected...\n",
       "2            2  Has many drawbacks. Apps developed for iPhone ...\n",
       "3            5  The phone was in superb condition... im lovin ...\n",
       "4            5                                     Great Product.\n",
       "...        ...                                                ...\n",
       "36435        5                   This product is just amazingðŸ˜™\n",
       "36436        5                         Very tactile\\n \\n \\n\\n\\n\\n\n",
       "36437        5  Very good according to price and features!! On...\n",
       "36438        5  Original!! Rest no need to explain.. Apple Nam...\n",
       "36439        5  At times I lose the screen light and can't see...\n",
       "\n",
       "[35685 rows x 2 columns]"
      ]
     },
     "execution_count": 7,
     "metadata": {},
     "output_type": "execute_result"
    }
   ],
   "source": [
    "df"
   ]
  },
  {
   "cell_type": "code",
   "execution_count": 8,
   "id": "7eed37c8",
   "metadata": {},
   "outputs": [],
   "source": [
    "for i in range(0,len(df)-1):\n",
    "    if type(df.iloc[i]['Reviews']) != str:\n",
    "        df.iloc[i]['Reviews'] = str(df.iloc[i]['Reviews'])"
   ]
  },
  {
   "cell_type": "code",
   "execution_count": 9,
   "id": "5ac3214e",
   "metadata": {},
   "outputs": [],
   "source": [
    "df = df[df['Ratings'] != 3]"
   ]
  },
  {
   "cell_type": "code",
   "execution_count": 10,
   "id": "e04b1123",
   "metadata": {
    "scrolled": true
   },
   "outputs": [
    {
     "data": {
      "text/html": [
       "<div>\n",
       "<style scoped>\n",
       "    .dataframe tbody tr th:only-of-type {\n",
       "        vertical-align: middle;\n",
       "    }\n",
       "\n",
       "    .dataframe tbody tr th {\n",
       "        vertical-align: top;\n",
       "    }\n",
       "\n",
       "    .dataframe thead th {\n",
       "        text-align: right;\n",
       "    }\n",
       "</style>\n",
       "<table border=\"1\" class=\"dataframe\">\n",
       "  <thead>\n",
       "    <tr style=\"text-align: right;\">\n",
       "      <th></th>\n",
       "      <th>Ratings</th>\n",
       "      <th>Reviews</th>\n",
       "    </tr>\n",
       "  </thead>\n",
       "  <tbody>\n",
       "    <tr>\n",
       "      <th>0</th>\n",
       "      <td>5</td>\n",
       "      <td>Big billion day makes this phone even more val...</td>\n",
       "    </tr>\n",
       "    <tr>\n",
       "      <th>1</th>\n",
       "      <td>5</td>\n",
       "      <td>Every thing is fine n more then expected...</td>\n",
       "    </tr>\n",
       "    <tr>\n",
       "      <th>2</th>\n",
       "      <td>2</td>\n",
       "      <td>Has many drawbacks. Apps developed for iPhone ...</td>\n",
       "    </tr>\n",
       "    <tr>\n",
       "      <th>3</th>\n",
       "      <td>5</td>\n",
       "      <td>The phone was in superb condition... im lovin ...</td>\n",
       "    </tr>\n",
       "    <tr>\n",
       "      <th>4</th>\n",
       "      <td>5</td>\n",
       "      <td>Great Product.</td>\n",
       "    </tr>\n",
       "    <tr>\n",
       "      <th>...</th>\n",
       "      <td>...</td>\n",
       "      <td>...</td>\n",
       "    </tr>\n",
       "    <tr>\n",
       "      <th>36435</th>\n",
       "      <td>5</td>\n",
       "      <td>This product is just amazingðŸ˜™</td>\n",
       "    </tr>\n",
       "    <tr>\n",
       "      <th>36436</th>\n",
       "      <td>5</td>\n",
       "      <td>Very tactile\\n \\n \\n\\n\\n\\n</td>\n",
       "    </tr>\n",
       "    <tr>\n",
       "      <th>36437</th>\n",
       "      <td>5</td>\n",
       "      <td>Very good according to price and features!! On...</td>\n",
       "    </tr>\n",
       "    <tr>\n",
       "      <th>36438</th>\n",
       "      <td>5</td>\n",
       "      <td>Original!! Rest no need to explain.. Apple Nam...</td>\n",
       "    </tr>\n",
       "    <tr>\n",
       "      <th>36439</th>\n",
       "      <td>5</td>\n",
       "      <td>At times I lose the screen light and can't see...</td>\n",
       "    </tr>\n",
       "  </tbody>\n",
       "</table>\n",
       "<p>34154 rows × 2 columns</p>\n",
       "</div>"
      ],
      "text/plain": [
       "       Ratings                                            Reviews\n",
       "0            5  Big billion day makes this phone even more val...\n",
       "1            5        Every thing is fine n more then expected...\n",
       "2            2  Has many drawbacks. Apps developed for iPhone ...\n",
       "3            5  The phone was in superb condition... im lovin ...\n",
       "4            5                                     Great Product.\n",
       "...        ...                                                ...\n",
       "36435        5                   This product is just amazingðŸ˜™\n",
       "36436        5                         Very tactile\\n \\n \\n\\n\\n\\n\n",
       "36437        5  Very good according to price and features!! On...\n",
       "36438        5  Original!! Rest no need to explain.. Apple Nam...\n",
       "36439        5  At times I lose the screen light and can't see...\n",
       "\n",
       "[34154 rows x 2 columns]"
      ]
     },
     "execution_count": 10,
     "metadata": {},
     "output_type": "execute_result"
    }
   ],
   "source": [
    "df"
   ]
  },
  {
   "cell_type": "markdown",
   "id": "2047e0a4",
   "metadata": {},
   "source": [
    "# Pre-Processing"
   ]
  },
  {
   "cell_type": "markdown",
   "id": "85f165be",
   "metadata": {},
   "source": [
    "### Convert the all reviews into the Lower Case."
   ]
  },
  {
   "cell_type": "code",
   "execution_count": 11,
   "id": "8f61b484",
   "metadata": {},
   "outputs": [
    {
     "name": "stderr",
     "output_type": "stream",
     "text": [
      "C:\\Users\\Admin\\AppData\\Local\\Temp/ipykernel_12032/4215006226.py:1: SettingWithCopyWarning: \n",
      "A value is trying to be set on a copy of a slice from a DataFrame.\n",
      "Try using .loc[row_indexer,col_indexer] = value instead\n",
      "\n",
      "See the caveats in the documentation: https://pandas.pydata.org/pandas-docs/stable/user_guide/indexing.html#returning-a-view-versus-a-copy\n",
      "  df['pre_process'] = df['Reviews'].apply(lambda x: \" \".join(x.lower() for x in str(x).split()))\n"
     ]
    }
   ],
   "source": [
    "df['pre_process'] = df['Reviews'].apply(lambda x: \" \".join(x.lower() for x in str(x).split()))"
   ]
  },
  {
   "cell_type": "markdown",
   "id": "bd97df12",
   "metadata": {},
   "source": [
    "### Remove the HTML tags and URLs from the reviews."
   ]
  },
  {
   "cell_type": "code",
   "execution_count": 12,
   "id": "ac438f65",
   "metadata": {},
   "outputs": [
    {
     "name": "stderr",
     "output_type": "stream",
     "text": [
      "C:\\Users\\Admin\\AppData\\Local\\Temp/ipykernel_12032/3095435998.py:2: SettingWithCopyWarning: \n",
      "A value is trying to be set on a copy of a slice from a DataFrame.\n",
      "Try using .loc[row_indexer,col_indexer] = value instead\n",
      "\n",
      "See the caveats in the documentation: https://pandas.pydata.org/pandas-docs/stable/user_guide/indexing.html#returning-a-view-versus-a-copy\n",
      "  df['pre_process']=df['pre_process'].apply(lambda x: BeautifulSoup(x).get_text())\n",
      "C:\\Users\\Admin\\AppData\\Local\\Temp/ipykernel_12032/3095435998.py:4: SettingWithCopyWarning: \n",
      "A value is trying to be set on a copy of a slice from a DataFrame.\n",
      "Try using .loc[row_indexer,col_indexer] = value instead\n",
      "\n",
      "See the caveats in the documentation: https://pandas.pydata.org/pandas-docs/stable/user_guide/indexing.html#returning-a-view-versus-a-copy\n",
      "  df['pre_process']=df['pre_process'].apply(lambda x: re.sub(r\"http\\S+\", \"\", x))\n"
     ]
    }
   ],
   "source": [
    "from bs4 import BeautifulSoup\n",
    "df['pre_process']=df['pre_process'].apply(lambda x: BeautifulSoup(x).get_text())\n",
    "import re\n",
    "df['pre_process']=df['pre_process'].apply(lambda x: re.sub(r\"http\\S+\", \"\", x))"
   ]
  },
  {
   "cell_type": "markdown",
   "id": "b175f521",
   "metadata": {},
   "source": [
    "### Perform the Contractions on the reviews."
   ]
  },
  {
   "cell_type": "code",
   "execution_count": 13,
   "id": "adb72c95",
   "metadata": {},
   "outputs": [
    {
     "name": "stderr",
     "output_type": "stream",
     "text": [
      "C:\\Users\\Admin\\AppData\\Local\\Temp/ipykernel_12032/4156889850.py:15: SettingWithCopyWarning: \n",
      "A value is trying to be set on a copy of a slice from a DataFrame.\n",
      "Try using .loc[row_indexer,col_indexer] = value instead\n",
      "\n",
      "See the caveats in the documentation: https://pandas.pydata.org/pandas-docs/stable/user_guide/indexing.html#returning-a-view-versus-a-copy\n",
      "  df['pre_process']=df['pre_process'].apply(lambda x:contractions(x))\n"
     ]
    }
   ],
   "source": [
    "def contractions(s):\n",
    " s = re.sub(r\"won't\", \"will not\",s)\n",
    " s = re.sub(r\"would't\", \"would not\",s)\n",
    " s = re.sub(r\"could't\", \"could not\",s)\n",
    " s = re.sub(r\"\\'d\", \"would\",s)\n",
    " s = re.sub(r\"can\\'t\", \"can not\",s)\n",
    " s = re.sub(r\"n\\'t\", \" not\", s)\n",
    " s= re.sub(r\"\\'re\", \" are\", s)\n",
    " s = re.sub(r\"\\'s\", \" is\", s)\n",
    " s = re.sub(r\"\\'ll\", \" will\", s)\n",
    " s = re.sub(r\"\\'t\", \" not\", s)\n",
    " s = re.sub(r\"\\'ve\", \" have\", s)\n",
    " s = re.sub(r\"\\'m\", \" am\", s)\n",
    " return s\n",
    "df['pre_process']=df['pre_process'].apply(lambda x:contractions(x))"
   ]
  },
  {
   "cell_type": "markdown",
   "id": "2484c980",
   "metadata": {},
   "source": [
    "## Remove non-alpha characters"
   ]
  },
  {
   "cell_type": "code",
   "execution_count": 14,
   "id": "5aa25df1",
   "metadata": {},
   "outputs": [
    {
     "name": "stderr",
     "output_type": "stream",
     "text": [
      "C:\\Users\\Admin\\AppData\\Local\\Temp/ipykernel_12032/3873174285.py:1: SettingWithCopyWarning: \n",
      "A value is trying to be set on a copy of a slice from a DataFrame.\n",
      "Try using .loc[row_indexer,col_indexer] = value instead\n",
      "\n",
      "See the caveats in the documentation: https://pandas.pydata.org/pandas-docs/stable/user_guide/indexing.html#returning-a-view-versus-a-copy\n",
      "  df['pre_process']=df['pre_process'].apply(lambda x: \" \".join([re.sub('[^A-Za-z]+','', x) for x in nltk.word_tokenize(x)]))\n"
     ]
    }
   ],
   "source": [
    "df['pre_process']=df['pre_process'].apply(lambda x: \" \".join([re.sub('[^A-Za-z]+','', x) for x in nltk.word_tokenize(x)]))"
   ]
  },
  {
   "cell_type": "markdown",
   "id": "a9d34f14",
   "metadata": {},
   "source": [
    "## Remove the extra spaces between the words"
   ]
  },
  {
   "cell_type": "code",
   "execution_count": 15,
   "id": "f183d4f3",
   "metadata": {},
   "outputs": [
    {
     "name": "stderr",
     "output_type": "stream",
     "text": [
      "C:\\Users\\Admin\\AppData\\Local\\Temp/ipykernel_12032/2458256260.py:1: SettingWithCopyWarning: \n",
      "A value is trying to be set on a copy of a slice from a DataFrame.\n",
      "Try using .loc[row_indexer,col_indexer] = value instead\n",
      "\n",
      "See the caveats in the documentation: https://pandas.pydata.org/pandas-docs/stable/user_guide/indexing.html#returning-a-view-versus-a-copy\n",
      "  df['pre_process']=df['pre_process'].apply(lambda x: re.sub(' +', ' ', x))\n"
     ]
    }
   ],
   "source": [
    "df['pre_process']=df['pre_process'].apply(lambda x: re.sub(' +', ' ', x))"
   ]
  },
  {
   "cell_type": "markdown",
   "id": "d7bdfed0",
   "metadata": {},
   "source": [
    "## Remove the stop words by using the NLTK package"
   ]
  },
  {
   "cell_type": "code",
   "execution_count": 16,
   "id": "a7583b27",
   "metadata": {},
   "outputs": [
    {
     "name": "stderr",
     "output_type": "stream",
     "text": [
      "C:\\Users\\Admin\\AppData\\Local\\Temp/ipykernel_12032/1267665603.py:3: SettingWithCopyWarning: \n",
      "A value is trying to be set on a copy of a slice from a DataFrame.\n",
      "Try using .loc[row_indexer,col_indexer] = value instead\n",
      "\n",
      "See the caveats in the documentation: https://pandas.pydata.org/pandas-docs/stable/user_guide/indexing.html#returning-a-view-versus-a-copy\n",
      "  df['pre_process']=df['pre_process'].apply(lambda x: \" \".join([x for x in x.split() if x not in stop]))\n"
     ]
    }
   ],
   "source": [
    "from nltk.corpus import stopwords\n",
    "stop = stopwords.words('english')\n",
    "df['pre_process']=df['pre_process'].apply(lambda x: \" \".join([x for x in x.split() if x not in stop]))"
   ]
  },
  {
   "cell_type": "markdown",
   "id": "d79015a9",
   "metadata": {},
   "source": [
    "## Perform lemmatization using the wordnet lemmatizer"
   ]
  },
  {
   "cell_type": "code",
   "execution_count": 17,
   "id": "c52ced48",
   "metadata": {},
   "outputs": [],
   "source": [
    "from nltk.stem import PorterStemmer,WordNetLemmatizer"
   ]
  },
  {
   "cell_type": "code",
   "execution_count": 18,
   "id": "ad5e1ef4",
   "metadata": {},
   "outputs": [],
   "source": [
    "def number_to_text(data):\n",
    "    temp_str = data.split()\n",
    "    string = []\n",
    "    for i in temp_str:\n",
    "\n",
    "    # if the word is digit, converted to\n",
    "    # word else the sequence continues\n",
    "\n",
    "        if i.isdigit():\n",
    "            temp = inflect.engine().number_to_words(i)\n",
    "            string.append(temp)\n",
    "        else:\n",
    "            string.append(i)\n",
    "    outputStr = \" \".join(string)\n",
    "    return outputStr"
   ]
  },
  {
   "cell_type": "code",
   "execution_count": 19,
   "id": "50d7420e",
   "metadata": {},
   "outputs": [],
   "source": [
    "ps = PorterStemmer()\n",
    "def stem_text(data):\n",
    "    tokens = word_tokenize(data)\n",
    "    stemmed_tokens = [ps.stem(word) for word in tokens if word not in (stop_words)]\n",
    "    return \" \".join(stemmed_tokens)"
   ]
  },
  {
   "cell_type": "code",
   "execution_count": 20,
   "id": "643cf8e6",
   "metadata": {},
   "outputs": [],
   "source": [
    "lemma = WordNetLemmatizer()\n",
    "def lemmatiz_text(data):    \n",
    "    tokens = word_tokenize(data)\n",
    "    lemma_tokens = [lemma.lemmatize(word, pos='v') for word in tokens if word not in (stop_words)]\n",
    "    return \" \".join(lemma_tokens)"
   ]
  },
  {
   "cell_type": "markdown",
   "id": "d15bfba3",
   "metadata": {},
   "source": [
    "# Creating the TF-IDF model"
   ]
  },
  {
   "cell_type": "code",
   "execution_count": 44,
   "id": "81ab756a",
   "metadata": {},
   "outputs": [],
   "source": [
    "from sklearn.feature_extraction.text import TfidfVectorizer\n",
    "cv = TfidfVectorizer()\n",
    "X = cv.fit_transform(df['pre_process'])"
   ]
  },
  {
   "cell_type": "markdown",
   "id": "b425cc25",
   "metadata": {},
   "source": [
    "# Creating the Bag of Words model"
   ]
  },
  {
   "cell_type": "code",
   "execution_count": 47,
   "id": "a5ba1893",
   "metadata": {},
   "outputs": [],
   "source": [
    "from sklearn.feature_extraction.text import CountVectorizer\n",
    "cv = CountVectorizer(max_features = 1500)\n",
    "X = cv.fit_transform(df['pre_process'])"
   ]
  },
  {
   "cell_type": "code",
   "execution_count": 48,
   "id": "47ea8325",
   "metadata": {},
   "outputs": [
    {
     "data": {
      "text/html": [
       "<div>\n",
       "<style scoped>\n",
       "    .dataframe tbody tr th:only-of-type {\n",
       "        vertical-align: middle;\n",
       "    }\n",
       "\n",
       "    .dataframe tbody tr th {\n",
       "        vertical-align: top;\n",
       "    }\n",
       "\n",
       "    .dataframe thead th {\n",
       "        text-align: right;\n",
       "    }\n",
       "</style>\n",
       "<table border=\"1\" class=\"dataframe\">\n",
       "  <thead>\n",
       "    <tr style=\"text-align: right;\">\n",
       "      <th></th>\n",
       "      <th>Ratings</th>\n",
       "      <th>Reviews</th>\n",
       "      <th>pre_process</th>\n",
       "      <th>sentiment</th>\n",
       "      <th>word_count</th>\n",
       "      <th>sentiment_category</th>\n",
       "    </tr>\n",
       "  </thead>\n",
       "  <tbody>\n",
       "    <tr>\n",
       "      <th>0</th>\n",
       "      <td>5</td>\n",
       "      <td>Big billion day makes this phone even more val...</td>\n",
       "      <td>big billion day makes phone even valuable</td>\n",
       "      <td>1</td>\n",
       "      <td>7</td>\n",
       "      <td>Positive</td>\n",
       "    </tr>\n",
       "    <tr>\n",
       "      <th>1</th>\n",
       "      <td>5</td>\n",
       "      <td>Every thing is fine n more then expected...</td>\n",
       "      <td>every thing fine n expected</td>\n",
       "      <td>1</td>\n",
       "      <td>5</td>\n",
       "      <td>Positive</td>\n",
       "    </tr>\n",
       "    <tr>\n",
       "      <th>2</th>\n",
       "      <td>2</td>\n",
       "      <td>Has many drawbacks. Apps developed for iPhone ...</td>\n",
       "      <td>many drawbacks apps developed iphone indian co...</td>\n",
       "      <td>0</td>\n",
       "      <td>59</td>\n",
       "      <td>Neutral</td>\n",
       "    </tr>\n",
       "    <tr>\n",
       "      <th>3</th>\n",
       "      <td>5</td>\n",
       "      <td>The phone was in superb condition... im lovin ...</td>\n",
       "      <td>phone superb condition im lovin product</td>\n",
       "      <td>1</td>\n",
       "      <td>6</td>\n",
       "      <td>Positive</td>\n",
       "    </tr>\n",
       "    <tr>\n",
       "      <th>4</th>\n",
       "      <td>5</td>\n",
       "      <td>Great Product.</td>\n",
       "      <td>great product</td>\n",
       "      <td>1</td>\n",
       "      <td>2</td>\n",
       "      <td>Positive</td>\n",
       "    </tr>\n",
       "    <tr>\n",
       "      <th>...</th>\n",
       "      <td>...</td>\n",
       "      <td>...</td>\n",
       "      <td>...</td>\n",
       "      <td>...</td>\n",
       "      <td>...</td>\n",
       "      <td>...</td>\n",
       "    </tr>\n",
       "    <tr>\n",
       "      <th>36435</th>\n",
       "      <td>5</td>\n",
       "      <td>This product is just amazingðŸ˜™</td>\n",
       "      <td>product amazing</td>\n",
       "      <td>1</td>\n",
       "      <td>2</td>\n",
       "      <td>Positive</td>\n",
       "    </tr>\n",
       "    <tr>\n",
       "      <th>36436</th>\n",
       "      <td>5</td>\n",
       "      <td>Very tactile\\n \\n \\n\\n\\n\\n</td>\n",
       "      <td>tactile</td>\n",
       "      <td>1</td>\n",
       "      <td>1</td>\n",
       "      <td>Positive</td>\n",
       "    </tr>\n",
       "    <tr>\n",
       "      <th>36437</th>\n",
       "      <td>5</td>\n",
       "      <td>Very good according to price and features!! On...</td>\n",
       "      <td>good according price features one best phone p...</td>\n",
       "      <td>1</td>\n",
       "      <td>15</td>\n",
       "      <td>Positive</td>\n",
       "    </tr>\n",
       "    <tr>\n",
       "      <th>36438</th>\n",
       "      <td>5</td>\n",
       "      <td>Original!! Rest no need to explain.. Apple Nam...</td>\n",
       "      <td>original rest need explain apple name enough</td>\n",
       "      <td>1</td>\n",
       "      <td>7</td>\n",
       "      <td>Positive</td>\n",
       "    </tr>\n",
       "    <tr>\n",
       "      <th>36439</th>\n",
       "      <td>5</td>\n",
       "      <td>At times I lose the screen light and can't see...</td>\n",
       "      <td>times lose screen light see anything</td>\n",
       "      <td>1</td>\n",
       "      <td>6</td>\n",
       "      <td>Positive</td>\n",
       "    </tr>\n",
       "  </tbody>\n",
       "</table>\n",
       "<p>34154 rows × 6 columns</p>\n",
       "</div>"
      ],
      "text/plain": [
       "       Ratings                                            Reviews  \\\n",
       "0            5  Big billion day makes this phone even more val...   \n",
       "1            5        Every thing is fine n more then expected...   \n",
       "2            2  Has many drawbacks. Apps developed for iPhone ...   \n",
       "3            5  The phone was in superb condition... im lovin ...   \n",
       "4            5                                     Great Product.   \n",
       "...        ...                                                ...   \n",
       "36435        5                   This product is just amazingðŸ˜™   \n",
       "36436        5                         Very tactile\\n \\n \\n\\n\\n\\n   \n",
       "36437        5  Very good according to price and features!! On...   \n",
       "36438        5  Original!! Rest no need to explain.. Apple Nam...   \n",
       "36439        5  At times I lose the screen light and can't see...   \n",
       "\n",
       "                                             pre_process  sentiment  \\\n",
       "0              big billion day makes phone even valuable          1   \n",
       "1                            every thing fine n expected          1   \n",
       "2      many drawbacks apps developed iphone indian co...          0   \n",
       "3                phone superb condition im lovin product          1   \n",
       "4                                          great product          1   \n",
       "...                                                  ...        ...   \n",
       "36435                                    product amazing          1   \n",
       "36436                                            tactile          1   \n",
       "36437  good according price features one best phone p...          1   \n",
       "36438       original rest need explain apple name enough          1   \n",
       "36439               times lose screen light see anything          1   \n",
       "\n",
       "       word_count sentiment_category  \n",
       "0               7           Positive  \n",
       "1               5           Positive  \n",
       "2              59            Neutral  \n",
       "3               6           Positive  \n",
       "4               2           Positive  \n",
       "...           ...                ...  \n",
       "36435           2           Positive  \n",
       "36436           1           Positive  \n",
       "36437          15           Positive  \n",
       "36438           7           Positive  \n",
       "36439           6           Positive  \n",
       "\n",
       "[34154 rows x 6 columns]"
      ]
     },
     "execution_count": 48,
     "metadata": {},
     "output_type": "execute_result"
    }
   ],
   "source": [
    "df"
   ]
  },
  {
   "cell_type": "code",
   "execution_count": 49,
   "id": "2607b69d",
   "metadata": {},
   "outputs": [
    {
     "name": "stderr",
     "output_type": "stream",
     "text": [
      "C:\\Users\\Admin\\AppData\\Local\\Temp/ipykernel_12032/3342561078.py:3: SettingWithCopyWarning: \n",
      "A value is trying to be set on a copy of a slice from a DataFrame.\n",
      "Try using .loc[row_indexer,col_indexer] = value instead\n",
      "\n",
      "See the caveats in the documentation: https://pandas.pydata.org/pandas-docs/stable/user_guide/indexing.html#returning-a-view-versus-a-copy\n",
      "  df['sentiment'] = df['Ratings'].apply(sentiment)\n"
     ]
    },
    {
     "data": {
      "text/html": [
       "<div>\n",
       "<style scoped>\n",
       "    .dataframe tbody tr th:only-of-type {\n",
       "        vertical-align: middle;\n",
       "    }\n",
       "\n",
       "    .dataframe tbody tr th {\n",
       "        vertical-align: top;\n",
       "    }\n",
       "\n",
       "    .dataframe thead th {\n",
       "        text-align: right;\n",
       "    }\n",
       "</style>\n",
       "<table border=\"1\" class=\"dataframe\">\n",
       "  <thead>\n",
       "    <tr style=\"text-align: right;\">\n",
       "      <th></th>\n",
       "      <th>Ratings</th>\n",
       "      <th>Reviews</th>\n",
       "      <th>pre_process</th>\n",
       "      <th>sentiment</th>\n",
       "      <th>word_count</th>\n",
       "      <th>sentiment_category</th>\n",
       "    </tr>\n",
       "  </thead>\n",
       "  <tbody>\n",
       "    <tr>\n",
       "      <th>0</th>\n",
       "      <td>5</td>\n",
       "      <td>Big billion day makes this phone even more val...</td>\n",
       "      <td>big billion day makes phone even valuable</td>\n",
       "      <td>1</td>\n",
       "      <td>7</td>\n",
       "      <td>Positive</td>\n",
       "    </tr>\n",
       "    <tr>\n",
       "      <th>1</th>\n",
       "      <td>5</td>\n",
       "      <td>Every thing is fine n more then expected...</td>\n",
       "      <td>every thing fine n expected</td>\n",
       "      <td>1</td>\n",
       "      <td>5</td>\n",
       "      <td>Positive</td>\n",
       "    </tr>\n",
       "    <tr>\n",
       "      <th>2</th>\n",
       "      <td>2</td>\n",
       "      <td>Has many drawbacks. Apps developed for iPhone ...</td>\n",
       "      <td>many drawbacks apps developed iphone indian co...</td>\n",
       "      <td>0</td>\n",
       "      <td>59</td>\n",
       "      <td>Neutral</td>\n",
       "    </tr>\n",
       "    <tr>\n",
       "      <th>3</th>\n",
       "      <td>5</td>\n",
       "      <td>The phone was in superb condition... im lovin ...</td>\n",
       "      <td>phone superb condition im lovin product</td>\n",
       "      <td>1</td>\n",
       "      <td>6</td>\n",
       "      <td>Positive</td>\n",
       "    </tr>\n",
       "    <tr>\n",
       "      <th>4</th>\n",
       "      <td>5</td>\n",
       "      <td>Great Product.</td>\n",
       "      <td>great product</td>\n",
       "      <td>1</td>\n",
       "      <td>2</td>\n",
       "      <td>Positive</td>\n",
       "    </tr>\n",
       "  </tbody>\n",
       "</table>\n",
       "</div>"
      ],
      "text/plain": [
       "   Ratings                                            Reviews  \\\n",
       "0        5  Big billion day makes this phone even more val...   \n",
       "1        5        Every thing is fine n more then expected...   \n",
       "2        2  Has many drawbacks. Apps developed for iPhone ...   \n",
       "3        5  The phone was in superb condition... im lovin ...   \n",
       "4        5                                     Great Product.   \n",
       "\n",
       "                                         pre_process  sentiment  word_count  \\\n",
       "0          big billion day makes phone even valuable          1           7   \n",
       "1                        every thing fine n expected          1           5   \n",
       "2  many drawbacks apps developed iphone indian co...          0          59   \n",
       "3            phone superb condition im lovin product          1           6   \n",
       "4                                      great product          1           2   \n",
       "\n",
       "  sentiment_category  \n",
       "0           Positive  \n",
       "1           Positive  \n",
       "2            Neutral  \n",
       "3           Positive  \n",
       "4           Positive  "
      ]
     },
     "execution_count": 49,
     "metadata": {},
     "output_type": "execute_result"
    }
   ],
   "source": [
    "def sentiment(n):\n",
    "    return 1 if n >= 4 else 0\n",
    "df['sentiment'] = df['Ratings'].apply(sentiment)\n",
    "df.head()"
   ]
  },
  {
   "cell_type": "code",
   "execution_count": 50,
   "id": "432d4ef3",
   "metadata": {},
   "outputs": [
    {
     "name": "stderr",
     "output_type": "stream",
     "text": [
      "C:\\Users\\Admin\\AppData\\Local\\Temp/ipykernel_12032/240119797.py:2: SettingWithCopyWarning: \n",
      "A value is trying to be set on a copy of a slice from a DataFrame.\n",
      "Try using .loc[row_indexer,col_indexer] = value instead\n",
      "\n",
      "See the caveats in the documentation: https://pandas.pydata.org/pandas-docs/stable/user_guide/indexing.html#returning-a-view-versus-a-copy\n",
      "  df['word_count'] = df['pre_process'].str.split().apply(len)\n"
     ]
    },
    {
     "data": {
      "text/plain": [
       "0         7\n",
       "1         5\n",
       "2        59\n",
       "3         6\n",
       "4         2\n",
       "         ..\n",
       "36435     2\n",
       "36436     1\n",
       "36437    15\n",
       "36438     7\n",
       "36439     6\n",
       "Name: word_count, Length: 34154, dtype: int64"
      ]
     },
     "execution_count": 50,
     "metadata": {},
     "output_type": "execute_result"
    }
   ],
   "source": [
    "# how many words are in the sentence?\n",
    "df['word_count'] = df['pre_process'].str.split().apply(len)\n",
    "df['word_count']"
   ]
  },
  {
   "cell_type": "code",
   "execution_count": 51,
   "id": "7910b95a",
   "metadata": {
    "scrolled": true
   },
   "outputs": [
    {
     "data": {
      "text/html": [
       "<div>\n",
       "<style scoped>\n",
       "    .dataframe tbody tr th:only-of-type {\n",
       "        vertical-align: middle;\n",
       "    }\n",
       "\n",
       "    .dataframe tbody tr th {\n",
       "        vertical-align: top;\n",
       "    }\n",
       "\n",
       "    .dataframe thead th {\n",
       "        text-align: right;\n",
       "    }\n",
       "</style>\n",
       "<table border=\"1\" class=\"dataframe\">\n",
       "  <thead>\n",
       "    <tr style=\"text-align: right;\">\n",
       "      <th></th>\n",
       "      <th>Ratings</th>\n",
       "      <th>Reviews</th>\n",
       "      <th>pre_process</th>\n",
       "      <th>sentiment</th>\n",
       "      <th>word_count</th>\n",
       "      <th>sentiment_category</th>\n",
       "    </tr>\n",
       "  </thead>\n",
       "  <tbody>\n",
       "    <tr>\n",
       "      <th>9744</th>\n",
       "      <td>2</td>\n",
       "      <td>Phone is getting hang lit bit price is Hight I...</td>\n",
       "      <td>phone getting hang lit bit price hight say buy</td>\n",
       "      <td>0</td>\n",
       "      <td>9</td>\n",
       "      <td>Neutral</td>\n",
       "    </tr>\n",
       "    <tr>\n",
       "      <th>16225</th>\n",
       "      <td>2</td>\n",
       "      <td>Phone battery not good In six month battery he...</td>\n",
       "      <td>phone battery good six month battery health pl...</td>\n",
       "      <td>0</td>\n",
       "      <td>9</td>\n",
       "      <td>Neutral</td>\n",
       "    </tr>\n",
       "    <tr>\n",
       "      <th>12937</th>\n",
       "      <td>1</td>\n",
       "      <td>dear sir\\n\\n\\nnot received iPhone my received ...</td>\n",
       "      <td>dear sir received iphone received power bank</td>\n",
       "      <td>0</td>\n",
       "      <td>7</td>\n",
       "      <td>Neutral</td>\n",
       "    </tr>\n",
       "    <tr>\n",
       "      <th>4234</th>\n",
       "      <td>2</td>\n",
       "      <td>It is not working correctly.. And some times i...</td>\n",
       "      <td>working correctly times get hanging continuos ...</td>\n",
       "      <td>0</td>\n",
       "      <td>9</td>\n",
       "      <td>Neutral</td>\n",
       "    </tr>\n",
       "    <tr>\n",
       "      <th>22325</th>\n",
       "      <td>2</td>\n",
       "      <td>Not earpod in this box ,earphone inside the bo...</td>\n",
       "      <td>earpod box earphone inside box biggest problem...</td>\n",
       "      <td>0</td>\n",
       "      <td>18</td>\n",
       "      <td>Neutral</td>\n",
       "    </tr>\n",
       "    <tr>\n",
       "      <th>...</th>\n",
       "      <td>...</td>\n",
       "      <td>...</td>\n",
       "      <td>...</td>\n",
       "      <td>...</td>\n",
       "      <td>...</td>\n",
       "      <td>...</td>\n",
       "    </tr>\n",
       "    <tr>\n",
       "      <th>12989</th>\n",
       "      <td>5</td>\n",
       "      <td>Great Product ðŸ‘</td>\n",
       "      <td>great product</td>\n",
       "      <td>1</td>\n",
       "      <td>2</td>\n",
       "      <td>Positive</td>\n",
       "    </tr>\n",
       "    <tr>\n",
       "      <th>12988</th>\n",
       "      <td>5</td>\n",
       "      <td>Purchased mobile from Retail outlet. Working A...</td>\n",
       "      <td>purchased mobile retail outlet working awesome...</td>\n",
       "      <td>1</td>\n",
       "      <td>31</td>\n",
       "      <td>Positive</td>\n",
       "    </tr>\n",
       "    <tr>\n",
       "      <th>12987</th>\n",
       "      <td>4</td>\n",
       "      <td>Overall, this is a very practical phone and va...</td>\n",
       "      <td>overall practical phone value money iphone wis...</td>\n",
       "      <td>1</td>\n",
       "      <td>28</td>\n",
       "      <td>Positive</td>\n",
       "    </tr>\n",
       "    <tr>\n",
       "      <th>13001</th>\n",
       "      <td>5</td>\n",
       "      <td>I liked how apple is giving a security seal fo...</td>\n",
       "      <td>liked apple giving security seal online orders...</td>\n",
       "      <td>1</td>\n",
       "      <td>26</td>\n",
       "      <td>Positive</td>\n",
       "    </tr>\n",
       "    <tr>\n",
       "      <th>36439</th>\n",
       "      <td>5</td>\n",
       "      <td>At times I lose the screen light and can't see...</td>\n",
       "      <td>times lose screen light see anything</td>\n",
       "      <td>1</td>\n",
       "      <td>6</td>\n",
       "      <td>Positive</td>\n",
       "    </tr>\n",
       "  </tbody>\n",
       "</table>\n",
       "<p>34154 rows × 6 columns</p>\n",
       "</div>"
      ],
      "text/plain": [
       "       Ratings                                            Reviews  \\\n",
       "9744         2  Phone is getting hang lit bit price is Hight I...   \n",
       "16225        2  Phone battery not good In six month battery he...   \n",
       "12937        1  dear sir\\n\\n\\nnot received iPhone my received ...   \n",
       "4234         2  It is not working correctly.. And some times i...   \n",
       "22325        2  Not earpod in this box ,earphone inside the bo...   \n",
       "...        ...                                                ...   \n",
       "12989        5                                 Great Product ðŸ‘   \n",
       "12988        5  Purchased mobile from Retail outlet. Working A...   \n",
       "12987        4  Overall, this is a very practical phone and va...   \n",
       "13001        5  I liked how apple is giving a security seal fo...   \n",
       "36439        5  At times I lose the screen light and can't see...   \n",
       "\n",
       "                                             pre_process  sentiment  \\\n",
       "9744      phone getting hang lit bit price hight say buy          0   \n",
       "16225  phone battery good six month battery health pl...          0   \n",
       "12937       dear sir received iphone received power bank          0   \n",
       "4234   working correctly times get hanging continuos ...          0   \n",
       "22325  earpod box earphone inside box biggest problem...          0   \n",
       "...                                                  ...        ...   \n",
       "12989                                      great product          1   \n",
       "12988  purchased mobile retail outlet working awesome...          1   \n",
       "12987  overall practical phone value money iphone wis...          1   \n",
       "13001  liked apple giving security seal online orders...          1   \n",
       "36439               times lose screen light see anything          1   \n",
       "\n",
       "       word_count sentiment_category  \n",
       "9744            9            Neutral  \n",
       "16225           9            Neutral  \n",
       "12937           7            Neutral  \n",
       "4234            9            Neutral  \n",
       "22325          18            Neutral  \n",
       "...           ...                ...  \n",
       "12989           2           Positive  \n",
       "12988          31           Positive  \n",
       "12987          28           Positive  \n",
       "13001          26           Positive  \n",
       "36439           6           Positive  \n",
       "\n",
       "[34154 rows x 6 columns]"
      ]
     },
     "execution_count": 51,
     "metadata": {},
     "output_type": "execute_result"
    }
   ],
   "source": [
    "df.sort_values(by='sentiment')"
   ]
  },
  {
   "cell_type": "code",
   "execution_count": 52,
   "id": "d11b84b1",
   "metadata": {
    "scrolled": true
   },
   "outputs": [
    {
     "name": "stderr",
     "output_type": "stream",
     "text": [
      "C:\\ProgramData\\Anaconda3\\lib\\site-packages\\seaborn\\distributions.py:2619: FutureWarning: `distplot` is a deprecated function and will be removed in a future version. Please adapt your code to use either `displot` (a figure-level function with similar flexibility) or `histplot` (an axes-level function for histograms).\n",
      "  warnings.warn(msg, FutureWarning)\n"
     ]
    },
    {
     "data": {
      "text/plain": [
       "<AxesSubplot:xlabel='sentiment', ylabel='Density'>"
      ]
     },
     "execution_count": 52,
     "metadata": {},
     "output_type": "execute_result"
    },
    {
     "data": {
      "image/png": "[encoded data removed]",
      "text/plain": [
       "<Figure size 720x432 with 1 Axes>"
      ]
     },
     "metadata": {},
     "output_type": "display_data"
    }
   ],
   "source": [
    "# Checking the distribution of reviews \n",
    "\n",
    "import seaborn as sns\n",
    "sns.set(rc={'figure.figsize':(10,6)})\n",
    "sns.distplot(df['sentiment'])"
   ]
  },
  {
   "cell_type": "code",
   "execution_count": 53,
   "id": "7099372e",
   "metadata": {
    "scrolled": true
   },
   "outputs": [
    {
     "name": "stderr",
     "output_type": "stream",
     "text": [
      "*c* argument looks like a single numeric RGB or RGBA sequence, which should be avoided as value-mapping will have precedence in case its length matches with *x* & *y*.  Please use the *color* keyword-argument or provide a 2D array with a single row if you intend to specify the same RGB or RGBA value for all points.\n"
     ]
    },
    {
     "data": {
      "text/plain": [
       "<AxesSubplot:title={'center':'Sentence sentiment value to sentence word count'}, xlabel='word_count', ylabel='sentiment'>"
      ]
     },
     "execution_count": 53,
     "metadata": {},
     "output_type": "execute_result"
    },
    {
     "data": {
      "image/png": "[encoded data removed]",
      "text/plain": [
       "<Figure size 1080x720 with 1 Axes>"
      ]
     },
     "metadata": {},
     "output_type": "display_data"
    }
   ],
   "source": [
    "df.plot.scatter(x='word_count', y='sentiment', figsize=(15,10), title='Sentence sentiment value to sentence word count')"
   ]
  },
  {
   "cell_type": "code",
   "execution_count": 54,
   "id": "dea06c30",
   "metadata": {},
   "outputs": [],
   "source": [
    "# This function will return sentiment category based on values in sentiment_value column\n",
    "\n",
    "def sentiment_cat(row):\n",
    "    \n",
    "    '''This function returns sentiment category based on values in sentiment_value column'''\n",
    "    \n",
    "    if row['sentiment'] < 0:\n",
    "        val = 'Negative'\n",
    "    elif row['sentiment'] == 0: \n",
    "        val = 'Neutral'\n",
    "    elif row['sentiment'] > 0:\n",
    "        val = 'Positive'\n",
    "    else:\n",
    "        val = -1\n",
    "    return val"
   ]
  },
  {
   "cell_type": "code",
   "execution_count": 55,
   "id": "bc2ce9fa",
   "metadata": {},
   "outputs": [
    {
     "name": "stderr",
     "output_type": "stream",
     "text": [
      "C:\\Users\\Admin\\AppData\\Local\\Temp/ipykernel_12032/4290529297.py:2: SettingWithCopyWarning: \n",
      "A value is trying to be set on a copy of a slice from a DataFrame.\n",
      "Try using .loc[row_indexer,col_indexer] = value instead\n",
      "\n",
      "See the caveats in the documentation: https://pandas.pydata.org/pandas-docs/stable/user_guide/indexing.html#returning-a-view-versus-a-copy\n",
      "  df['sentiment_category'] = df.apply(sentiment_cat, axis=1)\n"
     ]
    },
    {
     "data": {
      "text/html": [
       "<div>\n",
       "<style scoped>\n",
       "    .dataframe tbody tr th:only-of-type {\n",
       "        vertical-align: middle;\n",
       "    }\n",
       "\n",
       "    .dataframe tbody tr th {\n",
       "        vertical-align: top;\n",
       "    }\n",
       "\n",
       "    .dataframe thead th {\n",
       "        text-align: right;\n",
       "    }\n",
       "</style>\n",
       "<table border=\"1\" class=\"dataframe\">\n",
       "  <thead>\n",
       "    <tr style=\"text-align: right;\">\n",
       "      <th></th>\n",
       "      <th>Ratings</th>\n",
       "      <th>Reviews</th>\n",
       "      <th>pre_process</th>\n",
       "      <th>sentiment</th>\n",
       "      <th>word_count</th>\n",
       "      <th>sentiment_category</th>\n",
       "    </tr>\n",
       "  </thead>\n",
       "  <tbody>\n",
       "    <tr>\n",
       "      <th>0</th>\n",
       "      <td>5</td>\n",
       "      <td>Big billion day makes this phone even more val...</td>\n",
       "      <td>big billion day makes phone even valuable</td>\n",
       "      <td>1</td>\n",
       "      <td>7</td>\n",
       "      <td>Positive</td>\n",
       "    </tr>\n",
       "    <tr>\n",
       "      <th>1</th>\n",
       "      <td>5</td>\n",
       "      <td>Every thing is fine n more then expected...</td>\n",
       "      <td>every thing fine n expected</td>\n",
       "      <td>1</td>\n",
       "      <td>5</td>\n",
       "      <td>Positive</td>\n",
       "    </tr>\n",
       "    <tr>\n",
       "      <th>2</th>\n",
       "      <td>2</td>\n",
       "      <td>Has many drawbacks. Apps developed for iPhone ...</td>\n",
       "      <td>many drawbacks apps developed iphone indian co...</td>\n",
       "      <td>0</td>\n",
       "      <td>59</td>\n",
       "      <td>Neutral</td>\n",
       "    </tr>\n",
       "    <tr>\n",
       "      <th>3</th>\n",
       "      <td>5</td>\n",
       "      <td>The phone was in superb condition... im lovin ...</td>\n",
       "      <td>phone superb condition im lovin product</td>\n",
       "      <td>1</td>\n",
       "      <td>6</td>\n",
       "      <td>Positive</td>\n",
       "    </tr>\n",
       "    <tr>\n",
       "      <th>4</th>\n",
       "      <td>5</td>\n",
       "      <td>Great Product.</td>\n",
       "      <td>great product</td>\n",
       "      <td>1</td>\n",
       "      <td>2</td>\n",
       "      <td>Positive</td>\n",
       "    </tr>\n",
       "  </tbody>\n",
       "</table>\n",
       "</div>"
      ],
      "text/plain": [
       "   Ratings                                            Reviews  \\\n",
       "0        5  Big billion day makes this phone even more val...   \n",
       "1        5        Every thing is fine n more then expected...   \n",
       "2        2  Has many drawbacks. Apps developed for iPhone ...   \n",
       "3        5  The phone was in superb condition... im lovin ...   \n",
       "4        5                                     Great Product.   \n",
       "\n",
       "                                         pre_process  sentiment  word_count  \\\n",
       "0          big billion day makes phone even valuable          1           7   \n",
       "1                        every thing fine n expected          1           5   \n",
       "2  many drawbacks apps developed iphone indian co...          0          59   \n",
       "3            phone superb condition im lovin product          1           6   \n",
       "4                                      great product          1           2   \n",
       "\n",
       "  sentiment_category  \n",
       "0           Positive  \n",
       "1           Positive  \n",
       "2            Neutral  \n",
       "3           Positive  \n",
       "4           Positive  "
      ]
     },
     "execution_count": 55,
     "metadata": {},
     "output_type": "execute_result"
    }
   ],
   "source": [
    "#Applying the function in our new column\n",
    "df['sentiment_category'] = df.apply(sentiment_cat, axis=1)\n",
    "df.head()"
   ]
  },
  {
   "cell_type": "code",
   "execution_count": 56,
   "id": "8867efd1",
   "metadata": {
    "scrolled": false
   },
   "outputs": [
    {
     "data": {
      "text/plain": [
       "Positive    29746\n",
       "Neutral      4408\n",
       "Name: sentiment_category, dtype: int64"
      ]
     },
     "execution_count": 56,
     "metadata": {},
     "output_type": "execute_result"
    }
   ],
   "source": [
    "df['sentiment_category'].value_counts()"
   ]
  },
  {
   "cell_type": "code",
   "execution_count": 57,
   "id": "008fbc60",
   "metadata": {},
   "outputs": [
    {
     "data": {
      "text/plain": [
       "1"
      ]
     },
     "execution_count": 57,
     "metadata": {},
     "output_type": "execute_result"
    }
   ],
   "source": [
    "# Maximum sentiment value\n",
    "df['sentiment'].max()"
   ]
  },
  {
   "cell_type": "code",
   "execution_count": 58,
   "id": "0151bd61",
   "metadata": {},
   "outputs": [
    {
     "data": {
      "text/html": [
       "<div>\n",
       "<style scoped>\n",
       "    .dataframe tbody tr th:only-of-type {\n",
       "        vertical-align: middle;\n",
       "    }\n",
       "\n",
       "    .dataframe tbody tr th {\n",
       "        vertical-align: top;\n",
       "    }\n",
       "\n",
       "    .dataframe thead th {\n",
       "        text-align: right;\n",
       "    }\n",
       "</style>\n",
       "<table border=\"1\" class=\"dataframe\">\n",
       "  <thead>\n",
       "    <tr style=\"text-align: right;\">\n",
       "      <th></th>\n",
       "      <th>Ratings</th>\n",
       "      <th>Reviews</th>\n",
       "      <th>pre_process</th>\n",
       "      <th>sentiment</th>\n",
       "      <th>word_count</th>\n",
       "      <th>sentiment_category</th>\n",
       "    </tr>\n",
       "  </thead>\n",
       "  <tbody>\n",
       "    <tr>\n",
       "      <th>0</th>\n",
       "      <td>5</td>\n",
       "      <td>Big billion day makes this phone even more val...</td>\n",
       "      <td>big billion day makes phone even valuable</td>\n",
       "      <td>1</td>\n",
       "      <td>7</td>\n",
       "      <td>Positive</td>\n",
       "    </tr>\n",
       "    <tr>\n",
       "      <th>1</th>\n",
       "      <td>5</td>\n",
       "      <td>Every thing is fine n more then expected...</td>\n",
       "      <td>every thing fine n expected</td>\n",
       "      <td>1</td>\n",
       "      <td>5</td>\n",
       "      <td>Positive</td>\n",
       "    </tr>\n",
       "  </tbody>\n",
       "</table>\n",
       "</div>"
      ],
      "text/plain": [
       "   Ratings                                            Reviews  \\\n",
       "0        5  Big billion day makes this phone even more val...   \n",
       "1        5        Every thing is fine n more then expected...   \n",
       "\n",
       "                                 pre_process  sentiment  word_count  \\\n",
       "0  big billion day makes phone even valuable          1           7   \n",
       "1                every thing fine n expected          1           5   \n",
       "\n",
       "  sentiment_category  \n",
       "0           Positive  \n",
       "1           Positive  "
      ]
     },
     "execution_count": 58,
     "metadata": {},
     "output_type": "execute_result"
    }
   ],
   "source": [
    "# review which is having max sentiment value\n",
    "df[df['sentiment']==1.0].head(2)"
   ]
  },
  {
   "cell_type": "code",
   "execution_count": 59,
   "id": "61c8bc15",
   "metadata": {},
   "outputs": [
    {
     "data": {
      "text/plain": [
       "0"
      ]
     },
     "execution_count": 59,
     "metadata": {},
     "output_type": "execute_result"
    }
   ],
   "source": [
    "# minimum sentiment value\n",
    "df['sentiment'].min()"
   ]
  },
  {
   "cell_type": "code",
   "execution_count": 60,
   "id": "d3c35c1a",
   "metadata": {},
   "outputs": [
    {
     "data": {
      "text/html": [
       "<div>\n",
       "<style scoped>\n",
       "    .dataframe tbody tr th:only-of-type {\n",
       "        vertical-align: middle;\n",
       "    }\n",
       "\n",
       "    .dataframe tbody tr th {\n",
       "        vertical-align: top;\n",
       "    }\n",
       "\n",
       "    .dataframe thead th {\n",
       "        text-align: right;\n",
       "    }\n",
       "</style>\n",
       "<table border=\"1\" class=\"dataframe\">\n",
       "  <thead>\n",
       "    <tr style=\"text-align: right;\">\n",
       "      <th></th>\n",
       "      <th>Ratings</th>\n",
       "      <th>Reviews</th>\n",
       "      <th>pre_process</th>\n",
       "      <th>sentiment</th>\n",
       "      <th>word_count</th>\n",
       "      <th>sentiment_category</th>\n",
       "    </tr>\n",
       "  </thead>\n",
       "  <tbody>\n",
       "    <tr>\n",
       "      <th>2</th>\n",
       "      <td>2</td>\n",
       "      <td>Has many drawbacks. Apps developed for iPhone ...</td>\n",
       "      <td>many drawbacks apps developed iphone indian co...</td>\n",
       "      <td>0</td>\n",
       "      <td>59</td>\n",
       "      <td>Neutral</td>\n",
       "    </tr>\n",
       "    <tr>\n",
       "      <th>10</th>\n",
       "      <td>1</td>\n",
       "      <td>One day delivery\\n \\n \\n\\n\\n\\n</td>\n",
       "      <td>one day delivery</td>\n",
       "      <td>0</td>\n",
       "      <td>3</td>\n",
       "      <td>Neutral</td>\n",
       "    </tr>\n",
       "  </tbody>\n",
       "</table>\n",
       "</div>"
      ],
      "text/plain": [
       "    Ratings                                            Reviews  \\\n",
       "2         2  Has many drawbacks. Apps developed for iPhone ...   \n",
       "10        1                     One day delivery\\n \\n \\n\\n\\n\\n   \n",
       "\n",
       "                                          pre_process  sentiment  word_count  \\\n",
       "2   many drawbacks apps developed iphone indian co...          0          59   \n",
       "10                                   one day delivery          0           3   \n",
       "\n",
       "   sentiment_category  \n",
       "2             Neutral  \n",
       "10            Neutral  "
      ]
     },
     "execution_count": 60,
     "metadata": {},
     "output_type": "execute_result"
    }
   ],
   "source": [
    "# review which is having min sentiment value\n",
    "df[df['sentiment']==0].head(2)"
   ]
  },
  {
   "cell_type": "code",
   "execution_count": 61,
   "id": "1d9d7d60",
   "metadata": {
    "scrolled": false
   },
   "outputs": [
    {
     "data": {
      "text/plain": [
       "count    34154.000000\n",
       "mean         0.870938\n",
       "std          0.335274\n",
       "min          0.000000\n",
       "25%          1.000000\n",
       "50%          1.000000\n",
       "75%          1.000000\n",
       "max          1.000000\n",
       "Name: sentiment, dtype: float64"
      ]
     },
     "execution_count": 61,
     "metadata": {},
     "output_type": "execute_result"
    }
   ],
   "source": [
    "# Sentiment score of the whole review\n",
    "df['sentiment'].describe()"
   ]
  },
  {
   "cell_type": "code",
   "execution_count": 62,
   "id": "d48026de",
   "metadata": {
    "scrolled": true
   },
   "outputs": [
    {
     "data": {
      "text/html": [
       "<div>\n",
       "<style scoped>\n",
       "    .dataframe tbody tr th:only-of-type {\n",
       "        vertical-align: middle;\n",
       "    }\n",
       "\n",
       "    .dataframe tbody tr th {\n",
       "        vertical-align: top;\n",
       "    }\n",
       "\n",
       "    .dataframe thead th {\n",
       "        text-align: right;\n",
       "    }\n",
       "</style>\n",
       "<table border=\"1\" class=\"dataframe\">\n",
       "  <thead>\n",
       "    <tr style=\"text-align: right;\">\n",
       "      <th></th>\n",
       "      <th>Ratings</th>\n",
       "      <th>Reviews</th>\n",
       "      <th>pre_process</th>\n",
       "      <th>sentiment</th>\n",
       "      <th>word_count</th>\n",
       "      <th>sentiment_category</th>\n",
       "    </tr>\n",
       "  </thead>\n",
       "  <tbody>\n",
       "    <tr>\n",
       "      <th>0</th>\n",
       "      <td>5</td>\n",
       "      <td>Big billion day makes this phone even more val...</td>\n",
       "      <td>big billion day makes phone even valuable</td>\n",
       "      <td>1</td>\n",
       "      <td>7</td>\n",
       "      <td>Positive</td>\n",
       "    </tr>\n",
       "    <tr>\n",
       "      <th>1</th>\n",
       "      <td>5</td>\n",
       "      <td>Every thing is fine n more then expected...</td>\n",
       "      <td>every thing fine n expected</td>\n",
       "      <td>1</td>\n",
       "      <td>5</td>\n",
       "      <td>Positive</td>\n",
       "    </tr>\n",
       "    <tr>\n",
       "      <th>2</th>\n",
       "      <td>2</td>\n",
       "      <td>Has many drawbacks. Apps developed for iPhone ...</td>\n",
       "      <td>many drawbacks apps developed iphone indian co...</td>\n",
       "      <td>0</td>\n",
       "      <td>59</td>\n",
       "      <td>Neutral</td>\n",
       "    </tr>\n",
       "    <tr>\n",
       "      <th>3</th>\n",
       "      <td>5</td>\n",
       "      <td>The phone was in superb condition... im lovin ...</td>\n",
       "      <td>phone superb condition im lovin product</td>\n",
       "      <td>1</td>\n",
       "      <td>6</td>\n",
       "      <td>Positive</td>\n",
       "    </tr>\n",
       "    <tr>\n",
       "      <th>4</th>\n",
       "      <td>5</td>\n",
       "      <td>Great Product.</td>\n",
       "      <td>great product</td>\n",
       "      <td>1</td>\n",
       "      <td>2</td>\n",
       "      <td>Positive</td>\n",
       "    </tr>\n",
       "  </tbody>\n",
       "</table>\n",
       "</div>"
      ],
      "text/plain": [
       "   Ratings                                            Reviews  \\\n",
       "0        5  Big billion day makes this phone even more val...   \n",
       "1        5        Every thing is fine n more then expected...   \n",
       "2        2  Has many drawbacks. Apps developed for iPhone ...   \n",
       "3        5  The phone was in superb condition... im lovin ...   \n",
       "4        5                                     Great Product.   \n",
       "\n",
       "                                         pre_process  sentiment  word_count  \\\n",
       "0          big billion day makes phone even valuable          1           7   \n",
       "1                        every thing fine n expected          1           5   \n",
       "2  many drawbacks apps developed iphone indian co...          0          59   \n",
       "3            phone superb condition im lovin product          1           6   \n",
       "4                                      great product          1           2   \n",
       "\n",
       "  sentiment_category  \n",
       "0           Positive  \n",
       "1           Positive  \n",
       "2            Neutral  \n",
       "3           Positive  \n",
       "4           Positive  "
      ]
     },
     "execution_count": 62,
     "metadata": {},
     "output_type": "execute_result"
    }
   ],
   "source": [
    "df.head()"
   ]
  },
  {
   "cell_type": "code",
   "execution_count": 63,
   "id": "209a87f1",
   "metadata": {},
   "outputs": [],
   "source": [
    "Data_models = pd.DataFrame(columns = ['Model','Train_Accuracy','Test_Accuracy'])"
   ]
  },
  {
   "cell_type": "markdown",
   "id": "9c061937",
   "metadata": {},
   "source": [
    "# Model Building"
   ]
  },
  {
   "cell_type": "code",
   "execution_count": 64,
   "id": "caa931f7",
   "metadata": {},
   "outputs": [],
   "source": [
    "X = df['pre_process']\n",
    "y = df['sentiment']"
   ]
  },
  {
   "cell_type": "code",
   "execution_count": 65,
   "id": "c888557f",
   "metadata": {},
   "outputs": [],
   "source": [
    "from sklearn.model_selection import train_test_split\n",
    "X_train, X_test, y_train, y_test = train_test_split(X, y, random_state=0)"
   ]
  },
  {
   "cell_type": "code",
   "execution_count": 66,
   "id": "874b60f4",
   "metadata": {},
   "outputs": [
    {
     "data": {
      "text/plain": [
       "34562    0\n",
       "1236     1\n",
       "18718    1\n",
       "22654    1\n",
       "4330     0\n",
       "        ..\n",
       "28850    1\n",
       "13053    1\n",
       "20023    1\n",
       "2999     1\n",
       "18892    1\n",
       "Name: sentiment, Length: 8539, dtype: int64"
      ]
     },
     "execution_count": 66,
     "metadata": {},
     "output_type": "execute_result"
    }
   ],
   "source": [
    "y_test"
   ]
  },
  {
   "cell_type": "code",
   "execution_count": 67,
   "id": "4708acee",
   "metadata": {},
   "outputs": [],
   "source": [
    "from sklearn.feature_extraction.text import CountVectorizer\n",
    "cv = CountVectorizer()\n",
    "ctmTr = cv.fit_transform(X_train)\n",
    "X_test_dtm = cv.transform(X_test)"
   ]
  },
  {
   "cell_type": "markdown",
   "id": "adb5a600",
   "metadata": {},
   "source": [
    "# Logistic Regression"
   ]
  },
  {
   "cell_type": "code",
   "execution_count": 72,
   "id": "f945db02",
   "metadata": {},
   "outputs": [
    {
     "name": "stderr",
     "output_type": "stream",
     "text": [
      "C:\\ProgramData\\Anaconda3\\lib\\site-packages\\sklearn\\linear_model\\_sag.py:328: ConvergenceWarning: The max_iter was reached which means the coef_ did not converge\n",
      "  warnings.warn(\"The max_iter was reached which means \"\n"
     ]
    },
    {
     "data": {
      "text/plain": [
       "LogisticRegression(max_iter=1000, solver='saga')"
      ]
     },
     "execution_count": 72,
     "metadata": {},
     "output_type": "execute_result"
    }
   ],
   "source": [
    "from sklearn.linear_model import LogisticRegression\n",
    "logistic_model = LogisticRegression(max_iter=1000,solver='saga')\n",
    "logistic_model.fit(ctmTr,y_train)"
   ]
  },
  {
   "cell_type": "code",
   "execution_count": 73,
   "id": "23d139ad",
   "metadata": {},
   "outputs": [
    {
     "data": {
      "text/plain": [
       "array([1, 1, 1, ..., 1, 1, 1], dtype=int64)"
      ]
     },
     "execution_count": 73,
     "metadata": {},
     "output_type": "execute_result"
    }
   ],
   "source": [
    "# PERFORMING MODEL TESTING AND MODEL EVALUATION\n",
    "\n",
    "#training dataset\n",
    "y_pred_train=logistic_model.predict(ctmTr)\n",
    "y_pred_train"
   ]
  },
  {
   "cell_type": "code",
   "execution_count": 74,
   "id": "3da72039",
   "metadata": {
    "scrolled": true
   },
   "outputs": [
    {
     "name": "stdout",
     "output_type": "stream",
     "text": [
      "Accuracy : 0.9708373999609604\n",
      "Classification Report:\n",
      "               precision    recall  f1-score   support\n",
      "\n",
      "           0       0.95      0.81      0.88      3313\n",
      "           1       0.97      0.99      0.98     22302\n",
      "\n",
      "    accuracy                           0.97     25615\n",
      "   macro avg       0.96      0.90      0.93     25615\n",
      "weighted avg       0.97      0.97      0.97     25615\n",
      "\n",
      "Confusion Matrix:\n",
      " [[ 2693   620]\n",
      " [  127 22175]]\n"
     ]
    }
   ],
   "source": [
    "from sklearn.metrics import accuracy_score,classification_report,confusion_matrix\n",
    "print(\"Accuracy :\",accuracy_score(y_train,y_pred_train))\n",
    "print('Classification Report:\\n',classification_report(y_train,y_pred_train))\n",
    "print('Confusion Matrix:\\n',confusion_matrix(y_train,y_pred_train))"
   ]
  },
  {
   "cell_type": "code",
   "execution_count": 75,
   "id": "3a4592f8",
   "metadata": {},
   "outputs": [
    {
     "data": {
      "text/plain": [
       "array([0, 1, 1, ..., 1, 1, 1], dtype=int64)"
      ]
     },
     "execution_count": 75,
     "metadata": {},
     "output_type": "execute_result"
    }
   ],
   "source": [
    "#test data\n",
    "y_pred_test=logistic_model.predict(X_test_dtm)\n",
    "y_pred_test"
   ]
  },
  {
   "cell_type": "code",
   "execution_count": 76,
   "id": "270ec18c",
   "metadata": {},
   "outputs": [
    {
     "name": "stdout",
     "output_type": "stream",
     "text": [
      "Accuracy : 0.9565522894952571\n",
      "Classification Report:\n",
      "               precision    recall  f1-score   support\n",
      "\n",
      "           0       0.90      0.75      0.81      1095\n",
      "           1       0.96      0.99      0.98      7444\n",
      "\n",
      "    accuracy                           0.96      8539\n",
      "   macro avg       0.93      0.87      0.90      8539\n",
      "weighted avg       0.96      0.96      0.95      8539\n",
      "\n",
      "Confusion Matrix:\n",
      " [[ 816  279]\n",
      " [  92 7352]]\n"
     ]
    }
   ],
   "source": [
    "from sklearn.metrics import accuracy_score,classification_report,confusion_matrix\n",
    "print(\"Accuracy :\",accuracy_score(y_test,y_pred_test))\n",
    "print('Classification Report:\\n',classification_report(y_test,y_pred_test))\n",
    "print('Confusion Matrix:\\n',confusion_matrix(y_test,y_pred_test))"
   ]
  },
  {
   "cell_type": "code",
   "execution_count": 77,
   "id": "9f1896e8",
   "metadata": {},
   "outputs": [],
   "source": [
    "logistic_model_train =accuracy_score(y_train,y_pred_train)\n",
    "logistic_model_test=accuracy_score(y_test,y_pred_test)\n",
    "\n",
    "Data_models.loc[1,'Model'] = 'Logistic Regression'\n",
    "Data_models.loc[1,\"Train_Accuracy\"] = logistic_model_train\n",
    "Data_models.loc[1,\"Test_Accuracy\"] = logistic_model_test"
   ]
  },
  {
   "cell_type": "markdown",
   "id": "41c356be",
   "metadata": {},
   "source": [
    "# 2 KNN"
   ]
  },
  {
   "cell_type": "code",
   "execution_count": 78,
   "id": "f359969b",
   "metadata": {},
   "outputs": [],
   "source": [
    "from sklearn.neighbors import KNeighborsClassifier"
   ]
  },
  {
   "cell_type": "code",
   "execution_count": 79,
   "id": "1f2a9a98",
   "metadata": {},
   "outputs": [],
   "source": [
    "knn = KNeighborsClassifier(n_neighbors=5)"
   ]
  },
  {
   "cell_type": "code",
   "execution_count": 80,
   "id": "4a5f0e8d",
   "metadata": {},
   "outputs": [
    {
     "data": {
      "text/plain": [
       "KNeighborsClassifier()"
      ]
     },
     "execution_count": 80,
     "metadata": {},
     "output_type": "execute_result"
    }
   ],
   "source": [
    "knn.fit(ctmTr,y_train)"
   ]
  },
  {
   "cell_type": "code",
   "execution_count": 81,
   "id": "9d320d9d",
   "metadata": {},
   "outputs": [],
   "source": [
    "y_pred_test_knn = knn.predict(X_test_dtm)"
   ]
  },
  {
   "cell_type": "code",
   "execution_count": 82,
   "id": "63a8d704",
   "metadata": {},
   "outputs": [],
   "source": [
    "y_pred_train_knn  =  knn.predict(ctmTr)"
   ]
  },
  {
   "cell_type": "code",
   "execution_count": 83,
   "id": "5e03e71a",
   "metadata": {},
   "outputs": [
    {
     "name": "stdout",
     "output_type": "stream",
     "text": [
      "Training Accuracy : 0.9287917235994535\n",
      "Testing Accuracy :  0.9083030799859468\n"
     ]
    }
   ],
   "source": [
    "print(\"Training Accuracy :\",accuracy_score(y_train,y_pred_train_knn))\n",
    "print(\"Testing Accuracy : \",accuracy_score(y_test, y_pred_test_knn))"
   ]
  },
  {
   "cell_type": "code",
   "execution_count": 84,
   "id": "28f7468f",
   "metadata": {},
   "outputs": [],
   "source": [
    "knn_train =accuracy_score(y_train,y_pred_train_knn)\n",
    "knn_test=accuracy_score(y_test, y_pred_test_knn)\n",
    "\n",
    "Data_models.loc[4,'Model']          = 'KNN'\n",
    "Data_models.loc[4,\"Train_Accuracy\"] = knn_train\n",
    "Data_models.loc[4,\"Test_Accuracy\"]  = knn_test"
   ]
  },
  {
   "cell_type": "markdown",
   "id": "4780f1e7",
   "metadata": {},
   "source": [
    "# 4.Decison Tree Classifier"
   ]
  },
  {
   "cell_type": "code",
   "execution_count": 85,
   "id": "b5cd3bad",
   "metadata": {},
   "outputs": [
    {
     "data": {
      "text/plain": [
       "DecisionTreeClassifier(ccp_alpha=0.001, random_state=123)"
      ]
     },
     "execution_count": 85,
     "metadata": {},
     "output_type": "execute_result"
    }
   ],
   "source": [
    "from sklearn.tree import DecisionTreeClassifier\n",
    "dt_classifier_gini = DecisionTreeClassifier(criterion = 'gini', random_state = 123,ccp_alpha=0.0010 )\n",
    "dt_classifier_gini.fit(ctmTr, y_train)\n",
    "DecisionTreeClassifier(ccp_alpha=0.001, random_state=123)"
   ]
  },
  {
   "cell_type": "code",
   "execution_count": 86,
   "id": "a6762059",
   "metadata": {},
   "outputs": [
    {
     "data": {
      "text/plain": [
       "array([1, 1, 1, ..., 0, 1, 1], dtype=int64)"
      ]
     },
     "execution_count": 86,
     "metadata": {},
     "output_type": "execute_result"
    }
   ],
   "source": [
    "## USING ENTROPY PERFORMIG MODEL TRAINING \n",
    "\n",
    "y_pred_train_gini=dt_classifier_gini.predict(ctmTr)\n",
    "y_pred_train_gini"
   ]
  },
  {
   "cell_type": "code",
   "execution_count": 87,
   "id": "ae708d0f",
   "metadata": {
    "scrolled": true
   },
   "outputs": [
    {
     "name": "stdout",
     "output_type": "stream",
     "text": [
      "Accuracy : 0.9011907085691977\n",
      "classification_report:               precision    recall  f1-score   support\n",
      "\n",
      "           0       0.67      0.46      0.55      3313\n",
      "           1       0.92      0.97      0.94     22302\n",
      "\n",
      "    accuracy                           0.90     25615\n",
      "   macro avg       0.80      0.71      0.75     25615\n",
      "weighted avg       0.89      0.90      0.89     25615\n",
      "\n",
      "confusion_matrix: [[ 1524  1789]\n",
      " [  742 21560]]\n"
     ]
    }
   ],
   "source": [
    "from sklearn.metrics import accuracy_score,classification_report,confusion_matrix\n",
    "print(\"Accuracy :\",accuracy_score(y_train,y_pred_train_gini))\n",
    "print(\"classification_report:\",classification_report(y_train,y_pred_train_gini))\n",
    "print(\"confusion_matrix:\",confusion_matrix(y_train,y_pred_train_gini))"
   ]
  },
  {
   "cell_type": "code",
   "execution_count": 88,
   "id": "4e265b48",
   "metadata": {},
   "outputs": [
    {
     "data": {
      "text/plain": [
       "array([0, 1, 1, ..., 1, 1, 1], dtype=int64)"
      ]
     },
     "execution_count": 88,
     "metadata": {},
     "output_type": "execute_result"
    }
   ],
   "source": [
    "#TEST DATA\n",
    "y_pred_test_gini=dt_classifier_gini.predict(X_test_dtm)\n",
    "y_pred_test_gini"
   ]
  },
  {
   "cell_type": "code",
   "execution_count": 89,
   "id": "f3fbb384",
   "metadata": {
    "scrolled": true
   },
   "outputs": [
    {
     "name": "stdout",
     "output_type": "stream",
     "text": [
      "Accuracy: 0.8981145333177187\n",
      "classification_report:               precision    recall  f1-score   support\n",
      "\n",
      "           0       0.65      0.44      0.53      1095\n",
      "           1       0.92      0.97      0.94      7444\n",
      "\n",
      "    accuracy                           0.90      8539\n",
      "   macro avg       0.79      0.70      0.73      8539\n",
      "weighted avg       0.89      0.90      0.89      8539\n",
      "\n",
      "confusion_matrix: [[ 483  612]\n",
      " [ 258 7186]]\n"
     ]
    }
   ],
   "source": [
    "from sklearn.metrics import accuracy_score,classification_report,confusion_matrix\n",
    "print(\"Accuracy:\",accuracy_score(y_test,y_pred_test_gini))\n",
    "print(\"classification_report:\",classification_report(y_test,y_pred_test_gini))\n",
    "print(\"confusion_matrix:\",confusion_matrix(y_test,y_pred_test_gini))"
   ]
  },
  {
   "cell_type": "code",
   "execution_count": 90,
   "id": "62546701",
   "metadata": {},
   "outputs": [],
   "source": [
    "decision_tree_model_train =accuracy_score(y_train,y_pred_train_gini)\n",
    "decision_tree_model_test=accuracy_score(y_test,y_pred_test_gini)\n",
    "\n",
    "Data_models.loc[5,'Model'] = 'Decision Tree (Gini)'\n",
    "Data_models.loc[5,\"Train_Accuracy\"] = decision_tree_model_train\n",
    "Data_models.loc[5,\"Test_Accuracy\"] = decision_tree_model_test"
   ]
  },
  {
   "cell_type": "markdown",
   "id": "a2c092e2",
   "metadata": {},
   "source": [
    "# 5. Naive Bayes Classifier"
   ]
  },
  {
   "cell_type": "code",
   "execution_count": 91,
   "id": "1479fa9e",
   "metadata": {},
   "outputs": [],
   "source": [
    "from sklearn.naive_bayes import MultinomialNB"
   ]
  },
  {
   "cell_type": "code",
   "execution_count": 92,
   "id": "590db50c",
   "metadata": {},
   "outputs": [
    {
     "data": {
      "text/plain": [
       "MultinomialNB()"
      ]
     },
     "execution_count": 92,
     "metadata": {},
     "output_type": "execute_result"
    }
   ],
   "source": [
    "naive_bayes=MultinomialNB()\n",
    "naive_bayes_classifier=naive_bayes.fit(ctmTr, y_train)\n",
    "naive_bayes_classifier"
   ]
  },
  {
   "cell_type": "code",
   "execution_count": 94,
   "id": "68c4a24d",
   "metadata": {},
   "outputs": [
    {
     "data": {
      "text/plain": [
       "array([0, 1, 1, ..., 1, 1, 1], dtype=int64)"
      ]
     },
     "execution_count": 94,
     "metadata": {},
     "output_type": "execute_result"
    }
   ],
   "source": [
    "y_pred_test_nbc=naive_bayes_classifier.predict(X_test_dtm)\n",
    "y_pred_test_nbc"
   ]
  },
  {
   "cell_type": "code",
   "execution_count": 95,
   "id": "bbc47377",
   "metadata": {},
   "outputs": [
    {
     "data": {
      "text/plain": [
       "array([1, 1, 1, ..., 0, 1, 0], dtype=int64)"
      ]
     },
     "execution_count": 95,
     "metadata": {},
     "output_type": "execute_result"
    }
   ],
   "source": [
    "y_pred_train_nbc=naive_bayes_classifier.predict(ctmTr)\n",
    "y_pred_train_nbc"
   ]
  },
  {
   "cell_type": "code",
   "execution_count": 96,
   "id": "aeffaf59",
   "metadata": {},
   "outputs": [
    {
     "name": "stdout",
     "output_type": "stream",
     "text": [
      "Training Accuracy : 0.9490532890884248\n",
      "Testing Accuracy :  0.9392200491860874\n"
     ]
    }
   ],
   "source": [
    "print(\"Training Accuracy :\",accuracy_score(y_train,y_pred_train_nbc))\n",
    "print(\"Testing Accuracy : \",accuracy_score(y_test, y_pred_test_nbc))"
   ]
  },
  {
   "cell_type": "code",
   "execution_count": 97,
   "id": "6186bcfe",
   "metadata": {},
   "outputs": [],
   "source": [
    "nbc_train =accuracy_score(y_train,y_pred_train_nbc)\n",
    "nbc_test=accuracy_score(y_test, y_pred_test_nbc)\n",
    "\n",
    "Data_models.loc[3,'Model'] = 'NAIVE BAYES'\n",
    "Data_models.loc[3,\"Train_Accuracy\"] = nbc_train\n",
    "Data_models.loc[3,\"Test_Accuracy\"] = nbc_test"
   ]
  },
  {
   "cell_type": "markdown",
   "id": "530e82b7",
   "metadata": {},
   "source": [
    "# All Model Accuracy"
   ]
  },
  {
   "cell_type": "code",
   "execution_count": 98,
   "id": "916dbf39",
   "metadata": {},
   "outputs": [
    {
     "data": {
      "text/html": [
       "<div>\n",
       "<style scoped>\n",
       "    .dataframe tbody tr th:only-of-type {\n",
       "        vertical-align: middle;\n",
       "    }\n",
       "\n",
       "    .dataframe tbody tr th {\n",
       "        vertical-align: top;\n",
       "    }\n",
       "\n",
       "    .dataframe thead th {\n",
       "        text-align: right;\n",
       "    }\n",
       "</style>\n",
       "<table border=\"1\" class=\"dataframe\">\n",
       "  <thead>\n",
       "    <tr style=\"text-align: right;\">\n",
       "      <th></th>\n",
       "      <th>Model</th>\n",
       "      <th>Train_Accuracy</th>\n",
       "      <th>Test_Accuracy</th>\n",
       "    </tr>\n",
       "  </thead>\n",
       "  <tbody>\n",
       "    <tr>\n",
       "      <th>1</th>\n",
       "      <td>Logistic Regression</td>\n",
       "      <td>0.970837</td>\n",
       "      <td>0.956552</td>\n",
       "    </tr>\n",
       "    <tr>\n",
       "      <th>4</th>\n",
       "      <td>KNN</td>\n",
       "      <td>0.928792</td>\n",
       "      <td>0.908303</td>\n",
       "    </tr>\n",
       "    <tr>\n",
       "      <th>5</th>\n",
       "      <td>Decision Tree (Gini)</td>\n",
       "      <td>0.901191</td>\n",
       "      <td>0.898115</td>\n",
       "    </tr>\n",
       "    <tr>\n",
       "      <th>3</th>\n",
       "      <td>NAIVE BAYES</td>\n",
       "      <td>0.949053</td>\n",
       "      <td>0.93922</td>\n",
       "    </tr>\n",
       "  </tbody>\n",
       "</table>\n",
       "</div>"
      ],
      "text/plain": [
       "                  Model Train_Accuracy Test_Accuracy\n",
       "1   Logistic Regression       0.970837      0.956552\n",
       "4                   KNN       0.928792      0.908303\n",
       "5  Decision Tree (Gini)       0.901191      0.898115\n",
       "3           NAIVE BAYES       0.949053       0.93922"
      ]
     },
     "execution_count": 98,
     "metadata": {},
     "output_type": "execute_result"
    }
   ],
   "source": [
    "Data_models[\"Train_Accuracy\"] = Data_models[\"Train_Accuracy\"]\n",
    "Data_models[\"Test_Accuracy\"]  = Data_models[\"Test_Accuracy\"]\n",
    "Data_models"
   ]
  },
  {
   "cell_type": "code",
   "execution_count": null,
   "id": "41fd5f0d",
   "metadata": {},
   "outputs": [],
   "source": []
  }
 ],
 "metadata": {
  "kernelspec": {
   "display_name": "Python 3 (ipykernel)",
   "language": "python",
   "name": "python3"
  },
  "language_info": {
   "codemirror_mode": {
    "name": "ipython",
    "version": 3
   },
   "file_extension": ".py",
   "mimetype": "text/x-python",
   "name": "python",
   "nbconvert_exporter": "python",
   "pygments_lexer": "ipython3",
   "version": "3.9.7"
  }
 },
 "nbformat": 4,
 "nbformat_minor": 5
}
